{
 "cells": [
  {
   "cell_type": "markdown",
   "metadata": {},
   "source": [
    "### Henley Passport Index 2024"
   ]
  },
  {
   "cell_type": "code",
   "execution_count": 1,
   "metadata": {},
   "outputs": [
    {
     "name": "stderr",
     "output_type": "stream",
     "text": [
      "/Users/oluayinde/Library/Python/3.8/lib/python/site-packages/urllib3/__init__.py:35: NotOpenSSLWarning: urllib3 v2 only supports OpenSSL 1.1.1+, currently the 'ssl' module is compiled with 'LibreSSL 2.8.3'. See: https://github.com/urllib3/urllib3/issues/3020\n",
      "  warnings.warn(\n"
     ]
    }
   ],
   "source": [
    "#Import necessary libraries\n",
    "import requests\n",
    "import pandas as pd\n",
    "from datetime import datetime"
   ]
  },
  {
   "cell_type": "code",
   "execution_count": 2,
   "metadata": {},
   "outputs": [],
   "source": [
    "#Establish connection to the data from the site\n",
    "res = requests.get('https://api.henleypassportindex.com/api/passports')\n",
    "data = res.json()"
   ]
  },
  {
   "cell_type": "markdown",
   "metadata": {},
   "source": [
    "#### Data Extraction & Cleaning"
   ]
  },
  {
   "cell_type": "code",
   "execution_count": 3,
   "metadata": {},
   "outputs": [],
   "source": [
    "code_list = [{'code': item.get('code'),'country':item.get('name')} for item in data if item.get('code') != '']\n",
    "\n",
    "#sort by country name instead of code\n",
    "code_list = sorted(code_list, key=lambda k: k['country'])"
   ]
  },
  {
   "cell_type": "code",
   "execution_count": 4,
   "metadata": {},
   "outputs": [],
   "source": [
    "origin_lst = []\n",
    "destination_lst = []\n",
    "requirement = []\n",
    "visa_free_count_lst = []\n",
    "visa_required_count_lst = []\n",
    "origin_for_count = []\n",
    "visa_free = 'Visa Free'\n",
    "visa_required = 'Visa Required'\n",
    "\n",
    "for origin in code_list:\n",
    "    origin_country = origin.get('country')\n",
    "    origin_for_count.append(origin_country)\n",
    "    count_vf = 0\n",
    "    count_vr = 0\n",
    "    res = requests.get('https://api.henleypassportindex.com/api/passports/' + origin.get('code') + '/countries')\n",
    "    data = res.json()\n",
    "    for destination in data['default']:\n",
    "        destination_country = destination.get('name')\n",
    "        origin_lst.append(origin_country)\n",
    "        destination_lst.append(destination_country)\n",
    "        is_visa_free = destination.get('pivot').get('is_visa_free')\n",
    "        if str(is_visa_free) == \"1\":\n",
    "            count_vf += 1\n",
    "            requirement.append(visa_free)\n",
    "        else:\n",
    "            if str(origin_country) == str(destination_country):\n",
    "                requirement.append(\"N/A\")\n",
    "            else:\n",
    "                count_vr +=1\n",
    "                requirement.append(visa_required)\n",
    "\n",
    "    visa_free_count_lst.append(count_vf)\n",
    "    visa_required_count_lst.append(count_vr)"
   ]
  },
  {
   "cell_type": "code",
   "execution_count": 5,
   "metadata": {},
   "outputs": [
    {
     "data": {
      "text/html": [
       "<div>\n",
       "<style scoped>\n",
       "    .dataframe tbody tr th:only-of-type {\n",
       "        vertical-align: middle;\n",
       "    }\n",
       "\n",
       "    .dataframe tbody tr th {\n",
       "        vertical-align: top;\n",
       "    }\n",
       "\n",
       "    .dataframe thead th {\n",
       "        text-align: right;\n",
       "    }\n",
       "</style>\n",
       "<table border=\"1\" class=\"dataframe\">\n",
       "  <thead>\n",
       "    <tr style=\"text-align: right;\">\n",
       "      <th></th>\n",
       "      <th>Origin</th>\n",
       "      <th>Destination</th>\n",
       "      <th>Requirement</th>\n",
       "    </tr>\n",
       "  </thead>\n",
       "  <tbody>\n",
       "    <tr>\n",
       "      <th>0</th>\n",
       "      <td>Afghanistan</td>\n",
       "      <td>Afghanistan</td>\n",
       "      <td>N/A</td>\n",
       "    </tr>\n",
       "    <tr>\n",
       "      <th>1</th>\n",
       "      <td>Afghanistan</td>\n",
       "      <td>Albania</td>\n",
       "      <td>Visa Required</td>\n",
       "    </tr>\n",
       "    <tr>\n",
       "      <th>2</th>\n",
       "      <td>Afghanistan</td>\n",
       "      <td>Algeria</td>\n",
       "      <td>Visa Required</td>\n",
       "    </tr>\n",
       "    <tr>\n",
       "      <th>3</th>\n",
       "      <td>Afghanistan</td>\n",
       "      <td>American Samoa</td>\n",
       "      <td>Visa Required</td>\n",
       "    </tr>\n",
       "    <tr>\n",
       "      <th>4</th>\n",
       "      <td>Afghanistan</td>\n",
       "      <td>Andorra</td>\n",
       "      <td>Visa Required</td>\n",
       "    </tr>\n",
       "    <tr>\n",
       "      <th>...</th>\n",
       "      <td>...</td>\n",
       "      <td>...</td>\n",
       "      <td>...</td>\n",
       "    </tr>\n",
       "    <tr>\n",
       "      <th>45168</th>\n",
       "      <td>eSwatini</td>\n",
       "      <td>Vietnam</td>\n",
       "      <td>Visa Required</td>\n",
       "    </tr>\n",
       "    <tr>\n",
       "      <th>45169</th>\n",
       "      <td>eSwatini</td>\n",
       "      <td>Yemen</td>\n",
       "      <td>Visa Required</td>\n",
       "    </tr>\n",
       "    <tr>\n",
       "      <th>45170</th>\n",
       "      <td>eSwatini</td>\n",
       "      <td>Zambia</td>\n",
       "      <td>Visa Free</td>\n",
       "    </tr>\n",
       "    <tr>\n",
       "      <th>45171</th>\n",
       "      <td>eSwatini</td>\n",
       "      <td>Zimbabwe</td>\n",
       "      <td>Visa Free</td>\n",
       "    </tr>\n",
       "    <tr>\n",
       "      <th>45172</th>\n",
       "      <td>eSwatini</td>\n",
       "      <td>eSwatini</td>\n",
       "      <td>N/A</td>\n",
       "    </tr>\n",
       "  </tbody>\n",
       "</table>\n",
       "<p>45173 rows × 3 columns</p>\n",
       "</div>"
      ],
      "text/plain": [
       "            Origin     Destination    Requirement\n",
       "0      Afghanistan     Afghanistan            N/A\n",
       "1      Afghanistan         Albania  Visa Required\n",
       "2      Afghanistan         Algeria  Visa Required\n",
       "3      Afghanistan  American Samoa  Visa Required\n",
       "4      Afghanistan         Andorra  Visa Required\n",
       "...            ...             ...            ...\n",
       "45168     eSwatini         Vietnam  Visa Required\n",
       "45169     eSwatini           Yemen  Visa Required\n",
       "45170     eSwatini          Zambia      Visa Free\n",
       "45171     eSwatini        Zimbabwe      Visa Free\n",
       "45172     eSwatini        eSwatini            N/A\n",
       "\n",
       "[45173 rows x 3 columns]"
      ]
     },
     "execution_count": 5,
     "metadata": {},
     "output_type": "execute_result"
    }
   ],
   "source": [
    "#Create & view dataframe\n",
    "pd_1 = pd.DataFrame({'Origin': origin_lst, 'Destination': destination_lst, 'Requirement': requirement})\n",
    "pd_1\n"
   ]
  },
  {
   "cell_type": "code",
   "execution_count": 6,
   "metadata": {},
   "outputs": [
    {
     "name": "stdout",
     "output_type": "stream",
     "text": [
      "Total number of countries in origin_lst: 199 Total number of countries in destination_lst: 227\n"
     ]
    }
   ],
   "source": [
    "#Filter countries not common in origin_lst and destination_lst\n",
    "#Filter unique countries in origin_lst\n",
    "origin_lst = list(set(origin_lst))\n",
    "\n",
    "#Filter unique countries in destination_lst\n",
    "destination_lst = list(set(destination_lst))\n",
    "\n",
    "print(\n",
    "    \"Total number of countries in origin_lst: \" + str(len(origin_lst)) ,\n",
    "    \"Total number of countries in destination_lst: \" + str(len(destination_lst))\n",
    ")"
   ]
  },
  {
   "cell_type": "code",
   "execution_count": 7,
   "metadata": {},
   "outputs": [
    {
     "data": {
      "text/html": [
       "<div>\n",
       "<style scoped>\n",
       "    .dataframe tbody tr th:only-of-type {\n",
       "        vertical-align: middle;\n",
       "    }\n",
       "\n",
       "    .dataframe tbody tr th {\n",
       "        vertical-align: top;\n",
       "    }\n",
       "\n",
       "    .dataframe thead th {\n",
       "        text-align: right;\n",
       "    }\n",
       "</style>\n",
       "<table border=\"1\" class=\"dataframe\">\n",
       "  <thead>\n",
       "    <tr style=\"text-align: right;\">\n",
       "      <th></th>\n",
       "      <th>Origin</th>\n",
       "      <th>Visa Free</th>\n",
       "      <th>Visa Required</th>\n",
       "    </tr>\n",
       "  </thead>\n",
       "  <tbody>\n",
       "    <tr>\n",
       "      <th>0</th>\n",
       "      <td>Afghanistan</td>\n",
       "      <td>28</td>\n",
       "      <td>198</td>\n",
       "    </tr>\n",
       "    <tr>\n",
       "      <th>1</th>\n",
       "      <td>Albania</td>\n",
       "      <td>124</td>\n",
       "      <td>102</td>\n",
       "    </tr>\n",
       "    <tr>\n",
       "      <th>2</th>\n",
       "      <td>Algeria</td>\n",
       "      <td>56</td>\n",
       "      <td>170</td>\n",
       "    </tr>\n",
       "    <tr>\n",
       "      <th>3</th>\n",
       "      <td>Andorra</td>\n",
       "      <td>172</td>\n",
       "      <td>54</td>\n",
       "    </tr>\n",
       "    <tr>\n",
       "      <th>4</th>\n",
       "      <td>Angola</td>\n",
       "      <td>53</td>\n",
       "      <td>173</td>\n",
       "    </tr>\n",
       "    <tr>\n",
       "      <th>...</th>\n",
       "      <td>...</td>\n",
       "      <td>...</td>\n",
       "      <td>...</td>\n",
       "    </tr>\n",
       "    <tr>\n",
       "      <th>194</th>\n",
       "      <td>Vietnam</td>\n",
       "      <td>55</td>\n",
       "      <td>171</td>\n",
       "    </tr>\n",
       "    <tr>\n",
       "      <th>195</th>\n",
       "      <td>Yemen</td>\n",
       "      <td>35</td>\n",
       "      <td>191</td>\n",
       "    </tr>\n",
       "    <tr>\n",
       "      <th>196</th>\n",
       "      <td>Zambia</td>\n",
       "      <td>71</td>\n",
       "      <td>155</td>\n",
       "    </tr>\n",
       "    <tr>\n",
       "      <th>197</th>\n",
       "      <td>Zimbabwe</td>\n",
       "      <td>66</td>\n",
       "      <td>160</td>\n",
       "    </tr>\n",
       "    <tr>\n",
       "      <th>198</th>\n",
       "      <td>eSwatini</td>\n",
       "      <td>76</td>\n",
       "      <td>150</td>\n",
       "    </tr>\n",
       "  </tbody>\n",
       "</table>\n",
       "<p>199 rows × 3 columns</p>\n",
       "</div>"
      ],
      "text/plain": [
       "          Origin  Visa Free  Visa Required\n",
       "0    Afghanistan         28            198\n",
       "1        Albania        124            102\n",
       "2        Algeria         56            170\n",
       "3        Andorra        172             54\n",
       "4         Angola         53            173\n",
       "..           ...        ...            ...\n",
       "194      Vietnam         55            171\n",
       "195        Yemen         35            191\n",
       "196       Zambia         71            155\n",
       "197     Zimbabwe         66            160\n",
       "198     eSwatini         76            150\n",
       "\n",
       "[199 rows x 3 columns]"
      ]
     },
     "execution_count": 7,
     "metadata": {},
     "output_type": "execute_result"
    }
   ],
   "source": [
    "#Create & view final dataframe\n",
    "pd_2 = pd.DataFrame({'Origin': origin_for_count, 'Visa Free': visa_free_count_lst, 'Visa Required': visa_required_count_lst})\n",
    "\n",
    "#View dataframe\n",
    "pd_2"
   ]
  },
  {
   "cell_type": "code",
   "execution_count": 8,
   "metadata": {},
   "outputs": [],
   "source": [
    "#Export data to excel\n",
    "pd_2.to_excel('/Users/oluayinde/Downloads/passport_priv.xlsx',index=False)"
   ]
  }
 ],
 "metadata": {
  "kernelspec": {
   "display_name": "Python 3",
   "language": "python",
   "name": "python3"
  },
  "language_info": {
   "codemirror_mode": {
    "name": "ipython",
    "version": 3
   },
   "file_extension": ".py",
   "mimetype": "text/x-python",
   "name": "python",
   "nbconvert_exporter": "python",
   "pygments_lexer": "ipython3",
   "version": "3.8.9"
  }
 },
 "nbformat": 4,
 "nbformat_minor": 2
}
